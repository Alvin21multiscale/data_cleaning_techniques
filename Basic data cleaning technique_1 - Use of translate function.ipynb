{
 "cells": [
  {
   "cell_type": "markdown",
   "metadata": {},
   "source": [
    "## Basic data cleaning technique_1: Using translate function to replace certain characters for strings/texts"
   ]
  },
  {
   "cell_type": "code",
   "execution_count": null,
   "metadata": {},
   "outputs": [],
   "source": [
    "# sanitizing and cleaning up text using translate()\n",
    "import random\n",
    "import string\n",
    "letters_lower = string.ascii_lowercase # lowercase letters\n",
    "letters_upper = string.ascii_uppercase # uppercase letters\n",
    "string_size = random.randint(100,10e4)\n",
    "\n",
    "dummy_string = '' # define an empty string\n",
    "for i in range(string_size):\n",
    "    dummy_value = random.randint(1,3)\n",
    "    if dummy_value == 1:\n",
    "        dummy_string += \" \" # add a whitespace to dummy_string if dummy_value = 1\n",
    "    elif dummy_value == 2:\n",
    "        dummy_string += random.choice(letters_lower) # add a random lowercase letter to dummy_string if dummy_value = 2\n",
    "    else:\n",
    "        dummy_string += random.choice(letters_upper) # add a random lowercase letter to dummy_string if dummy_value = 3\n",
    "\n",
    "remap = {\n",
    "    ord('p'): 'python', # replace 'p' with 'python'\n",
    "    ord('P'): 'Python', # replace 'P' with 'Python'\n",
    "    ord(' '): '$', # replace ' ' with '$'\n",
    "    ord('c'): 'coding', # replace 'c' with 'coding'\n",
    "    ord('C'): 'Coding', # replace 'C' with 'Coding'\n",
    "    ord('m'): 'machine learning', # replace 'm' with 'machine learning'\n",
    "    ord('M'): 'Machine learning' # replace 'M' with 'Machine learning'\n",
    "}\n",
    "modified_string = dummy_string.translate(remap)\n",
    "print(modified_string)"
   ]
  }
 ],
 "metadata": {
  "kernelspec": {
   "display_name": "Python 3",
   "language": "python",
   "name": "python3"
  },
  "language_info": {
   "codemirror_mode": {
    "name": "ipython",
    "version": 3
   },
   "file_extension": ".py",
   "mimetype": "text/x-python",
   "name": "python",
   "nbconvert_exporter": "python",
   "pygments_lexer": "ipython3",
   "version": "3.7.1"
  }
 },
 "nbformat": 4,
 "nbformat_minor": 2
}
